{
 "cells": [
  {
   "cell_type": "code",
   "execution_count": 1,
   "metadata": {},
   "outputs": [],
   "source": [
    "%matplotlib inline"
   ]
  },
  {
   "cell_type": "code",
   "execution_count": 2,
   "metadata": {},
   "outputs": [],
   "source": [
    "from __future__ import print_function\n",
    "import argparse\n",
    "import torch\n",
    "import torch.nn as nn\n",
    "import torch.nn.functional as F\n",
    "import torch.optim as optim\n",
    "from torchvision import datasets, transforms\n",
    "import torchvision\n",
    "import numpy as np\n",
    "\n",
    "import itertools\n",
    "from time import sleep, time\n",
    "import toolz\n",
    "import numpy as np"
   ]
  },
  {
   "cell_type": "code",
   "execution_count": 3,
   "metadata": {},
   "outputs": [
    {
     "data": {
      "text/plain": [
       "'/Users/ssievert/Developer/dask/distributed/distributed/__init__.py'"
      ]
     },
     "execution_count": 3,
     "metadata": {},
     "output_type": "execute_result"
    }
   ],
   "source": [
    "import distributed\n",
    "distributed.__file__"
   ]
  },
  {
   "cell_type": "markdown",
   "metadata": {},
   "source": [
    "### Model"
   ]
  },
  {
   "cell_type": "code",
   "execution_count": 4,
   "metadata": {},
   "outputs": [],
   "source": [
    "class Net(nn.Module):\n",
    "    def __init__(self):\n",
    "        super(Net, self).__init__()\n",
    "        self.conv1 = nn.Conv2d(1, 10, kernel_size=5)\n",
    "        self.conv2 = nn.Conv2d(10, 20, kernel_size=5)\n",
    "        self.conv2_drop = nn.Dropout2d()\n",
    "        self.fc1 = nn.Linear(320, 50)\n",
    "        self.fc2 = nn.Linear(50, 10)\n",
    "\n",
    "    def forward(self, x):\n",
    "        x = F.relu(F.max_pool2d(self.conv1(x), 2))\n",
    "        x = F.relu(F.max_pool2d(self.conv2_drop(self.conv2(x)), 2))\n",
    "        x = x.view(-1, 320)\n",
    "        x = F.relu(self.fc1(x))\n",
    "        x = F.dropout(x, training=self.training)\n",
    "        x = self.fc2(x)\n",
    "        return F.log_softmax(x, dim=1)\n",
    "    \n",
    "def get_model(model=None):\n",
    "    if model is None:\n",
    "        return Net()\n",
    "    return getattr(torchvision.models, model)()\n",
    "\n",
    "resnet_models = [m for m in dir(torchvision.models)\n",
    "                 if 'resnet' in m and m != 'resnet']\n",
    "models = [get_model(model=model) for model in resnet_models]"
   ]
  },
  {
   "cell_type": "code",
   "execution_count": 5,
   "metadata": {},
   "outputs": [],
   "source": [
    "from types import SimpleNamespace\n",
    "args = SimpleNamespace(batch_size=64, test_batch_size=1000,\n",
    "                       epochs=2, lr=0.01, momentum=0.5,\n",
    "                       no_cuda=True, seed=42, log_interval=80)\n",
    "    \n",
    "use_cuda = not args.no_cuda and torch.cuda.is_available()\n",
    "torch.manual_seed(args.seed)\n",
    "\n",
    "kwargs = {'num_workers': 1, 'pin_memory': True} if use_cuda else {}"
   ]
  },
  {
   "cell_type": "markdown",
   "metadata": {},
   "source": [
    "### Dask"
   ]
  },
  {
   "cell_type": "code",
   "execution_count": 6,
   "metadata": {},
   "outputs": [
    {
     "data": {
      "text/html": [
       "<table style=\"border: 2px solid white;\">\n",
       "<tr>\n",
       "<td style=\"vertical-align: top; border: 0px solid white\">\n",
       "<h3>Client</h3>\n",
       "<ul>\n",
       "  <li><b>Scheduler: </b>tcp://127.0.0.1:63705\n",
       "  <li><b>Dashboard: </b><a href='http://127.0.0.1:8787/status' target='_blank'>http://127.0.0.1:8787/status</a>\n",
       "</ul>\n",
       "</td>\n",
       "<td style=\"vertical-align: top; border: 0px solid white\">\n",
       "<h3>Cluster</h3>\n",
       "<ul>\n",
       "  <li><b>Workers: </b>8</li>\n",
       "  <li><b>Cores: </b>8</li>\n",
       "  <li><b>Memory: </b>17.18 GB</li>\n",
       "</ul>\n",
       "</td>\n",
       "</tr>\n",
       "</table>"
      ],
      "text/plain": [
       "<Client: scheduler='tcp://127.0.0.1:63705' processes=8 cores=8>"
      ]
     },
     "execution_count": 6,
     "metadata": {},
     "output_type": "execute_result"
    }
   ],
   "source": [
    "from dask.distributed import Client, wait\n",
    "client = Client()\n",
    "client"
   ]
  },
  {
   "cell_type": "markdown",
   "metadata": {},
   "source": [
    "### Parameter Server\n"
   ]
  },
  {
   "cell_type": "code",
   "execution_count": 7,
   "metadata": {},
   "outputs": [],
   "source": [
    "import torch.optim as optim\n",
    "import copy\n",
    "\n",
    "def clone(model):\n",
    "    return copy.deepcopy(model)\n",
    "\n",
    "class PS:\n",
    "    model = None\n",
    "    n_steps = 0\n",
    "\n",
    "    def __init__(self, model, args, device, num_workers=1, max_iter=30):\n",
    "        model = model.to(device)\n",
    "        self.model = model\n",
    "        self._model = clone(model)\n",
    "        self.optimizer = optim.SGD(self._model.parameters(), lr=args.lr, momentum=args.momentum)\n",
    "        self.n_steps = 0\n",
    "        self._grads_recvd = 0\n",
    "        self._updating = False\n",
    "        self.max_iter = max_iter\n",
    "        self.num_workers = num_workers\n",
    "\n",
    "    def pull(self):\n",
    "        \"\"\"\n",
    "        For a worker to pull a model from this PS\n",
    "        \"\"\"\n",
    "        return self.model\n",
    "\n",
    "    def push(self, grads, key=None):\n",
    "        \"\"\"\n",
    "        For a worker to push some gradients to this PS\n",
    "        \"\"\"\n",
    "        if grads:\n",
    "            if self.n_steps is not None and self.n_steps > self.max_iter:\n",
    "                self.n_steps = None\n",
    "            if self.n_steps is None:\n",
    "                return None\n",
    "            if key != self.n_steps or self._updating:\n",
    "                assert key < self.n_steps\n",
    "                return self.n_steps\n",
    "            \n",
    "            assert not self._updating\n",
    "            if self._grads_recvd == 0:\n",
    "                self.optimizer.zero_grad()\n",
    "            \n",
    "            self._grads_recvd += 1\n",
    "            self.aggregate(grads)\n",
    "            if self._grads_recvd == self.num_workers:\n",
    "                self._updating = True\n",
    "                self._grads_recvd = 0\n",
    "                self.step()\n",
    "                self.n_steps += 1\n",
    "                self._updating = False\n",
    "            return self.n_steps\n",
    "\n",
    "    def aggregate(self, grads):\n",
    "        for name, param in self._model.named_parameters():\n",
    "            if param.grad is None:\n",
    "                param.grad = 0 * param\n",
    "            param.grad += grads[name]\n",
    "            \n",
    "    def step(self):\n",
    "        self.optimizer.step()\n",
    "        self.model = clone(self._model)"
   ]
  },
  {
   "cell_type": "markdown",
   "metadata": {},
   "source": [
    "# Execution"
   ]
  },
  {
   "cell_type": "code",
   "execution_count": 8,
   "metadata": {},
   "outputs": [],
   "source": [
    "def train(model, device, data, target):\n",
    "    model.train()\n",
    "    data, target = data.to(device), target.to(device)\n",
    "    output = model(data)\n",
    "    loss = F.nll_loss(output, target)\n",
    "    loss.backward()\n",
    "    return model"
   ]
  },
  {
   "cell_type": "code",
   "execution_count": 9,
   "metadata": {},
   "outputs": [],
   "source": [
    "import toolz\n",
    "def worker(ps, device, train_loader, worker_id=0):\n",
    "    meta = {'comm_grad': 0, 'comm_model': 0, 'comp_grad': 0,\n",
    "            'n_comm_grad': 0, 'n_steps': 0,\n",
    "            'worker_id': worker_id}\n",
    "    last_step = -1\n",
    "    step = 0\n",
    "    train_loader = iter(train_loader)\n",
    "    start_step = ps.push(None).result()\n",
    "    \n",
    "    loop_start = time()\n",
    "    while True:\n",
    "        if step != last_step:\n",
    "            start = time()\n",
    "            model = ps.pull().result()\n",
    "            last_step = step\n",
    "            meta['comm_model'] += time() - start\n",
    "            meta['n_steps'] += 1\n",
    "            \n",
    "        start = time()\n",
    "        data, target = next(train_loader)\n",
    "        model = train(model, device, data, target)\n",
    "        meta['comp_grad'] += time() - start\n",
    "        \n",
    "        if True:\n",
    "            check = toolz.first(model.parameters())\n",
    "            check = check.detach().numpy().flat[:3]\n",
    "            print(step, check)\n",
    "        \n",
    "        grads = {name: p.grad.data for name, p in model.named_parameters()}\n",
    "        \n",
    "        start = time()\n",
    "        \n",
    "        step = ps.push(grads, key=step).result()\n",
    "        # ps.push(grads, key=step)#.result()\n",
    "        # step = ps.n_steps\n",
    "        \n",
    "        meta['comm_grad'] += time() - start\n",
    "        meta['n_comm_grad'] += 1\n",
    "        \n",
    "        if step is None:\n",
    "            break\n",
    "            \n",
    "    meta['avg_comm_grad'] = meta['comm_grad'] / meta['n_comm_grad']\n",
    "    meta['avg_comp_grad'] = meta['comp_grad'] / meta['n_comm_grad']\n",
    "    meta['avg_comm_model'] = meta['comm_model'] / meta['n_steps']\n",
    "    meta['opt_time'] = time() - loop_start\n",
    "    return meta"
   ]
  },
  {
   "cell_type": "code",
   "execution_count": 10,
   "metadata": {},
   "outputs": [],
   "source": [
    "def test(batch_size=128, num_workers=4, iters=30):\n",
    "    batch_size //= num_workers\n",
    "    model = Net()\n",
    "    n_params = [np.prod(list(p.size())) for p in model.parameters()]\n",
    "    \n",
    "    train_loader = torch.utils.data.DataLoader(\n",
    "        datasets.MNIST('../data', train=True, download=True,\n",
    "                       transform=transforms.Compose([\n",
    "                           transforms.ToTensor(),\n",
    "                           transforms.Normalize((0.1307,), (0.3081,))\n",
    "                       ])),\n",
    "        batch_size=batch_size, shuffle=True, **kwargs)\n",
    "\n",
    "    device = torch.device(\"cuda\" if use_cuda else \"cpu\")\n",
    "    train_loader, model = client.scatter([train_loader, model])\n",
    "\n",
    "    ps = client.submit(PS, model, args, device,\n",
    "                       max_iter=30, num_workers=num_workers,\n",
    "                       actor=True, ).result()\n",
    "    \n",
    "    futures = [client.submit(worker, ps, device, train_loader, worker_id=i)\n",
    "               for i in range(num_workers)]\n",
    "    metas = client.gather(futures)\n",
    "    metas = [{'worker_batch_size': batch_size,\n",
    "              'num_workers': num_workers,\n",
    "              'iters': iters,\n",
    "              'params': sum(n_params),\n",
    "              **m} for m in metas]\n",
    "    return metas"
   ]
  },
  {
   "cell_type": "code",
   "execution_count": 11,
   "metadata": {},
   "outputs": [],
   "source": [
    "data = [test(num_workers=num_workers)\n",
    "        for num_workers in [1, 2, 4, 8]]\n",
    "# test(num_workers=4)"
   ]
  },
  {
   "cell_type": "code",
   "execution_count": 12,
   "metadata": {},
   "outputs": [
    {
     "data": {
      "text/html": [
       "<div>\n",
       "<style scoped>\n",
       "    .dataframe tbody tr th:only-of-type {\n",
       "        vertical-align: middle;\n",
       "    }\n",
       "\n",
       "    .dataframe tbody tr th {\n",
       "        vertical-align: top;\n",
       "    }\n",
       "\n",
       "    .dataframe thead th {\n",
       "        text-align: right;\n",
       "    }\n",
       "</style>\n",
       "<table border=\"1\" class=\"dataframe\">\n",
       "  <thead>\n",
       "    <tr style=\"text-align: right;\">\n",
       "      <th></th>\n",
       "      <th>avg_comm_grad</th>\n",
       "      <th>avg_comm_model</th>\n",
       "      <th>avg_comp_grad</th>\n",
       "      <th>comm_grad</th>\n",
       "      <th>comm_model</th>\n",
       "      <th>comp_grad</th>\n",
       "      <th>iters</th>\n",
       "      <th>n_comm_grad</th>\n",
       "      <th>n_steps</th>\n",
       "      <th>num_workers</th>\n",
       "      <th>opt_time</th>\n",
       "      <th>params</th>\n",
       "      <th>worker_batch_size</th>\n",
       "      <th>worker_id</th>\n",
       "    </tr>\n",
       "  </thead>\n",
       "  <tbody>\n",
       "    <tr>\n",
       "      <th>0</th>\n",
       "      <td>0.008530</td>\n",
       "      <td>0.008175</td>\n",
       "      <td>0.060826</td>\n",
       "      <td>0.272968</td>\n",
       "      <td>0.261599</td>\n",
       "      <td>1.946438</td>\n",
       "      <td>30</td>\n",
       "      <td>32</td>\n",
       "      <td>32</td>\n",
       "      <td>1</td>\n",
       "      <td>2.496775</td>\n",
       "      <td>21840</td>\n",
       "      <td>128</td>\n",
       "      <td>0</td>\n",
       "    </tr>\n",
       "    <tr>\n",
       "      <th>1</th>\n",
       "      <td>0.009909</td>\n",
       "      <td>0.010177</td>\n",
       "      <td>0.037920</td>\n",
       "      <td>0.505355</td>\n",
       "      <td>0.315493</td>\n",
       "      <td>1.933930</td>\n",
       "      <td>30</td>\n",
       "      <td>51</td>\n",
       "      <td>31</td>\n",
       "      <td>2</td>\n",
       "      <td>2.777652</td>\n",
       "      <td>21840</td>\n",
       "      <td>64</td>\n",
       "      <td>0</td>\n",
       "    </tr>\n",
       "    <tr>\n",
       "      <th>2</th>\n",
       "      <td>0.006200</td>\n",
       "      <td>0.010807</td>\n",
       "      <td>0.042570</td>\n",
       "      <td>0.248013</td>\n",
       "      <td>0.313411</td>\n",
       "      <td>1.702796</td>\n",
       "      <td>30</td>\n",
       "      <td>40</td>\n",
       "      <td>29</td>\n",
       "      <td>2</td>\n",
       "      <td>2.282890</td>\n",
       "      <td>21840</td>\n",
       "      <td>64</td>\n",
       "      <td>1</td>\n",
       "    </tr>\n",
       "    <tr>\n",
       "      <th>3</th>\n",
       "      <td>0.010154</td>\n",
       "      <td>0.012845</td>\n",
       "      <td>0.029170</td>\n",
       "      <td>0.578800</td>\n",
       "      <td>0.385362</td>\n",
       "      <td>1.662674</td>\n",
       "      <td>30</td>\n",
       "      <td>57</td>\n",
       "      <td>30</td>\n",
       "      <td>4</td>\n",
       "      <td>2.653737</td>\n",
       "      <td>21840</td>\n",
       "      <td>32</td>\n",
       "      <td>0</td>\n",
       "    </tr>\n",
       "    <tr>\n",
       "      <th>4</th>\n",
       "      <td>0.014177</td>\n",
       "      <td>0.017949</td>\n",
       "      <td>0.027238</td>\n",
       "      <td>0.864774</td>\n",
       "      <td>0.556427</td>\n",
       "      <td>1.661494</td>\n",
       "      <td>30</td>\n",
       "      <td>61</td>\n",
       "      <td>31</td>\n",
       "      <td>4</td>\n",
       "      <td>3.110744</td>\n",
       "      <td>21840</td>\n",
       "      <td>32</td>\n",
       "      <td>1</td>\n",
       "    </tr>\n",
       "  </tbody>\n",
       "</table>\n",
       "</div>"
      ],
      "text/plain": [
       "   avg_comm_grad  avg_comm_model  avg_comp_grad  comm_grad  comm_model  \\\n",
       "0       0.008530        0.008175       0.060826   0.272968    0.261599   \n",
       "1       0.009909        0.010177       0.037920   0.505355    0.315493   \n",
       "2       0.006200        0.010807       0.042570   0.248013    0.313411   \n",
       "3       0.010154        0.012845       0.029170   0.578800    0.385362   \n",
       "4       0.014177        0.017949       0.027238   0.864774    0.556427   \n",
       "\n",
       "   comp_grad  iters  n_comm_grad  n_steps  num_workers  opt_time  params  \\\n",
       "0   1.946438     30           32       32            1  2.496775   21840   \n",
       "1   1.933930     30           51       31            2  2.777652   21840   \n",
       "2   1.702796     30           40       29            2  2.282890   21840   \n",
       "3   1.662674     30           57       30            4  2.653737   21840   \n",
       "4   1.661494     30           61       31            4  3.110744   21840   \n",
       "\n",
       "   worker_batch_size  worker_id  \n",
       "0                128          0  \n",
       "1                 64          0  \n",
       "2                 64          1  \n",
       "3                 32          0  \n",
       "4                 32          1  "
      ]
     },
     "execution_count": 12,
     "metadata": {},
     "output_type": "execute_result"
    }
   ],
   "source": [
    "import pandas as pd\n",
    "df = pd.DataFrame(sum(data, []))\n",
    "df.head()"
   ]
  },
  {
   "cell_type": "code",
   "execution_count": 13,
   "metadata": {},
   "outputs": [
    {
     "data": {
      "image/png": "[encoded data removed]",
      "text/plain": [
       "<Figure size 432x288 with 1 Axes>"
      ]
     },
     "metadata": {},
     "output_type": "display_data"
    }
   ],
   "source": [
    "import matplotlib.pyplot as plt\n",
    "show = df.pivot_table(index='num_workers', values='opt_time',\n",
    "                      aggfunc=np.median)\n",
    "show.plot.bar()\n",
    "plt.ylabel('Total optimization time')\n",
    "plt.savefig('total_opt_time.png', dpi=300)"
   ]
  },
  {
   "cell_type": "code",
   "execution_count": 14,
   "metadata": {},
   "outputs": [
    {
     "data": {
      "text/plain": [
       "[((1, 0), 0    2.496775\n",
       "  Name: opt_time, dtype: float64), ((2, 0), 1    2.777652\n",
       "  Name: opt_time, dtype: float64), ((2, 1), 2    2.28289\n",
       "  Name: opt_time, dtype: float64), ((4, 0), 3    2.653737\n",
       "  Name: opt_time, dtype: float64), ((4, 1), 4    3.110744\n",
       "  Name: opt_time, dtype: float64), ((4, 2), 5    3.287237\n",
       "  Name: opt_time, dtype: float64), ((4, 3), 6    2.654268\n",
       "  Name: opt_time, dtype: float64), ((8, 0), 7    5.079007\n",
       "  Name: opt_time, dtype: float64), ((8, 1), 8    5.202928\n",
       "  Name: opt_time, dtype: float64), ((8, 2), 9    5.428352\n",
       "  Name: opt_time, dtype: float64), ((8, 3), 10    5.203028\n",
       "  Name: opt_time, dtype: float64), ((8, 4), 11    5.094175\n",
       "  Name: opt_time, dtype: float64), ((8, 5), 12    5.342013\n",
       "  Name: opt_time, dtype: float64), ((8, 6), 13    5.095118\n",
       "  Name: opt_time, dtype: float64), ((8, 7), 14    4.049279\n",
       "  Name: opt_time, dtype: float64)]"
      ]
     },
     "execution_count": 14,
     "metadata": {},
     "output_type": "execute_result"
    }
   ],
   "source": [
    "r = df.groupby(['num_workers', 'worker_id'])['opt_time']\n",
    "list(r)"
   ]
  },
  {
   "cell_type": "code",
   "execution_count": 15,
   "metadata": {},
   "outputs": [
    {
     "data": {
      "image/png": "[encoded data removed]",
      "text/plain": [
       "<Figure size 1296x432 with 3 Axes>"
      ]
     },
     "metadata": {},
     "output_type": "display_data"
    }
   ],
   "source": [
    "import seaborn as sns\n",
    "import matplotlib.pyplot as plt\n",
    "\n",
    "variables = {'avg worker time (s)': ['avg_comm_grad', 'avg_comm_model', 'avg_comp_grad'],\n",
    "             'total worker time (s)': ['comm_grad', 'comm_model', 'comp_grad'],\n",
    "             'number': ['n_steps', 'n_comm_grad']}\n",
    "\n",
    "w = 6\n",
    "plt, axs = plt.subplots(ncols=3, figsize=(3*w, w))\n",
    "for (label, values), ax in zip(variables.items(), axs):\n",
    "    show = df.melt(id_vars=['num_workers'], value_vars=values, value_name=label)\n",
    "    sns.lineplot(data=show, x='num_workers', hue='variable', y=label,\n",
    "                 estimator=np.median, ax=ax)\n",
    "    ax.set_xscale('log', basex=2)\n",
    "plt.savefig('times.png', dpi=300)"
   ]
  },
  {
   "cell_type": "markdown",
   "metadata": {},
   "source": [
    "### Serialization time\n",
    "\n",
    "Wait time is a lot of serialization time, + 1-2ms each way"
   ]
  },
  {
   "cell_type": "code",
   "execution_count": 16,
   "metadata": {},
   "outputs": [],
   "source": [
    "model = Net()\n",
    "num_workers = 4\n",
    "device = torch.device(\"cuda\" if use_cuda else \"cpu\")\n",
    "\n",
    "ps = client.submit(PS, model, args, device,\n",
    "                   max_iter=30, num_workers=num_workers,\n",
    "                   actor=True, ).result()"
   ]
  },
  {
   "cell_type": "code",
   "execution_count": 17,
   "metadata": {},
   "outputs": [
    {
     "name": "stdout",
     "output_type": "stream",
     "text": [
      "100 loops, best of 3: 6.32 ms per loop\n"
     ]
    }
   ],
   "source": [
    "%timeit model = ps.model"
   ]
  },
  {
   "cell_type": "code",
   "execution_count": 18,
   "metadata": {},
   "outputs": [
    {
     "name": "stdout",
     "output_type": "stream",
     "text": [
      "100 loops, best of 3: 4.22 ms per loop\n"
     ]
    }
   ],
   "source": [
    "from distributed.protocol import serialize, deserialize\n",
    "%timeit _ = deserialize(*serialize(model))"
   ]
  },
  {
   "cell_type": "code",
   "execution_count": 21,
   "metadata": {},
   "outputs": [],
   "source": [
    "%load_ext snakeviz"
   ]
  },
  {
   "cell_type": "code",
   "execution_count": 23,
   "metadata": {},
   "outputs": [
    {
     "name": "stdout",
     "output_type": "stream",
     "text": [
      " \n",
      "*** Profile stats marshalled to file '/var/folders/kk/wvsqd9_j5j12y8bszfc6gr9h0000gp/T/tmpyi76hecc'. \n"
     ]
    }
   ],
   "source": [
    "%%snakeviz  \n",
    "for i in range(100):\n",
    "    deserialize(*serialize(model))"
   ]
  },
  {
   "cell_type": "code",
   "execution_count": null,
   "metadata": {},
   "outputs": [],
   "source": []
  }
 ],
 "metadata": {
  "kernelspec": {
   "display_name": "Python 3",
   "language": "python",
   "name": "python3"
  },
  "language_info": {
   "codemirror_mode": {
    "name": "ipython",
    "version": 3
   },
   "file_extension": ".py",
   "mimetype": "text/x-python",
   "name": "python",
   "nbconvert_exporter": "python",
   "pygments_lexer": "ipython3",
   "version": "3.6.5"
  }
 },
 "nbformat": 4,
 "nbformat_minor": 2
}
