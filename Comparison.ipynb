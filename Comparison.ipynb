{
 "cells": [
  {
   "cell_type": "markdown",
   "metadata": {},
   "source": [
    "TODO:\n",
    "\n",
    "- [ ] implement ring-all-reduce (and check it works)\n",
    "- [ ] "
   ]
  },
  {
   "cell_type": "code",
   "execution_count": 1,
   "metadata": {},
   "outputs": [],
   "source": [
    "from __future__ import print_function\n",
    "import argparse\n",
    "import torch\n",
    "import torch.nn as nn\n",
    "import torch.nn.functional as F\n",
    "import torch.optim as optim\n",
    "from torchvision import datasets, transforms\n",
    "import torchvision\n",
    "import numpy as np\n",
    "\n",
    "import itertools\n",
    "from time import sleep, time\n",
    "import toolz\n",
    "import numpy as np"
   ]
  },
  {
   "cell_type": "code",
   "execution_count": 2,
   "metadata": {},
   "outputs": [],
   "source": [
    "class Net(nn.Module):\n",
    "    def __init__(self):\n",
    "        super(Net, self).__init__()\n",
    "        self.conv1 = nn.Conv2d(1, 10, kernel_size=5)\n",
    "        self.conv2 = nn.Conv2d(10, 20, kernel_size=5)\n",
    "        self.conv2_drop = nn.Dropout2d()\n",
    "        self.fc1 = nn.Linear(320, 50)\n",
    "        self.fc2 = nn.Linear(50, 10)\n",
    "\n",
    "    def forward(self, x):\n",
    "        x = F.relu(F.max_pool2d(self.conv1(x), 2))\n",
    "        x = F.relu(F.max_pool2d(self.conv2_drop(self.conv2(x)), 2))\n",
    "        x = x.view(-1, 320)\n",
    "        x = F.relu(self.fc1(x))\n",
    "        x = F.dropout(x, training=self.training)\n",
    "        x = self.fc2(x)\n",
    "        return F.log_softmax(x, dim=1)\n",
    "    \n",
    "def get_model(model=None):\n",
    "    if model is None:\n",
    "        return Net()\n",
    "    return getattr(torchvision.models, model)()\n",
    "\n",
    "resnet_models = [m for m in dir(torchvision.models)\n",
    "                 if 'resnet' in m and m != 'resnet']\n",
    "models = [get_model(model=model) for model in resnet_models]"
   ]
  },
  {
   "cell_type": "code",
   "execution_count": 3,
   "metadata": {},
   "outputs": [],
   "source": [
    "from types import SimpleNamespace\n",
    "args = SimpleNamespace(batch_size=64, test_batch_size=1000,\n",
    "                       epochs=2, lr=0.01, momentum=0.5,\n",
    "                       no_cuda=True, seed=42, log_interval=80)\n",
    "    \n",
    "use_cuda = not args.no_cuda and torch.cuda.is_available()\n",
    "torch.manual_seed(args.seed)\n",
    "\n",
    "kwargs = {'num_workers': 1, 'pin_memory': True} if use_cuda else {}"
   ]
  },
  {
   "cell_type": "code",
   "execution_count": 4,
   "metadata": {},
   "outputs": [
    {
     "data": {
      "text/html": [
       "<table style=\"border: 2px solid white;\">\n",
       "<tr>\n",
       "<td style=\"vertical-align: top; border: 0px solid white\">\n",
       "<h3>Client</h3>\n",
       "<ul>\n",
       "  <li><b>Scheduler: </b>tcp://127.0.0.1:57333\n",
       "  <li><b>Dashboard: </b><a href='http://127.0.0.1:57334/status' target='_blank'>http://127.0.0.1:57334/status</a>\n",
       "</ul>\n",
       "</td>\n",
       "<td style=\"vertical-align: top; border: 0px solid white\">\n",
       "<h3>Cluster</h3>\n",
       "<ul>\n",
       "  <li><b>Workers: </b>8</li>\n",
       "  <li><b>Cores: </b>8</li>\n",
       "  <li><b>Memory: </b>17.18 GB</li>\n",
       "</ul>\n",
       "</td>\n",
       "</tr>\n",
       "</table>"
      ],
      "text/plain": [
       "<Client: scheduler='tcp://127.0.0.1:57333' processes=8 cores=8>"
      ]
     },
     "execution_count": 4,
     "metadata": {},
     "output_type": "execute_result"
    }
   ],
   "source": [
    "from distributed import Client\n",
    "import distributed as d\n",
    "client = Client()\n",
    "client"
   ]
  },
  {
   "cell_type": "code",
   "execution_count": 5,
   "metadata": {},
   "outputs": [],
   "source": [
    "# num_workers = 4\n",
    "# model = get_model()\n",
    "model = Net()\n",
    "iters = 20"
   ]
  },
  {
   "cell_type": "markdown",
   "metadata": {},
   "source": [
    "## Decentralized implementation"
   ]
  },
  {
   "cell_type": "code",
   "execution_count": 6,
   "metadata": {},
   "outputs": [],
   "source": [
    "def compute_grad(model, data, target, optimizer, args, device):\n",
    "    data, target = data.to(device), target.to(device)\n",
    "    optimizer.zero_grad()\n",
    "    output = model(data)\n",
    "    loss = F.nll_loss(output, target)\n",
    "    loss.backward()\n",
    "    # optimizer.step()  # do not include this\n",
    "    return {k: p.grad for k, p in model.named_parameters()}"
   ]
  },
  {
   "cell_type": "code",
   "execution_count": 7,
   "metadata": {},
   "outputs": [],
   "source": [
    "import toolz\n",
    "from pprint import pprint\n",
    "from time import time\n",
    "import numpy as np"
   ]
  },
  {
   "cell_type": "code",
   "execution_count": 8,
   "metadata": {},
   "outputs": [],
   "source": [
    "%load_ext autoreload\n",
    "%autoreload 2"
   ]
  },
  {
   "cell_type": "code",
   "execution_count": 9,
   "metadata": {},
   "outputs": [],
   "source": [
    "from ps import Worker"
   ]
  },
  {
   "cell_type": "code",
   "execution_count": 10,
   "metadata": {},
   "outputs": [],
   "source": [
    "def train_decentralized(model, args, num_workers=4, iters=20):\n",
    "    params = [np.prod(tuple(p.size())) for p in model.parameters()]\n",
    "    futures = [client.submit(Worker, model, args,\n",
    "                             compute_grad=compute_grad,\n",
    "                             worker_id=i, num_workers=num_workers,\n",
    "                             actor=True)\n",
    "               for i in range(num_workers)]\n",
    "    workers = client.gather(futures)\n",
    "    \n",
    "    times = {'compute_grad': 0, 'comm_grad': 0}\n",
    "    train_start = time()\n",
    "    grad_start = time()\n",
    "    for k in range(iters):\n",
    "        # compute gradient\n",
    "        futures = [worker.compute_gradients() for worker in workers]\n",
    "        finished = [f.result() for f in futures]\n",
    "        assert all(finished)\n",
    "        times['compute_grad'] += time() - grad_start\n",
    "\n",
    "        # communication scheme (should be all-reduce)\n",
    "        start = time()\n",
    "        futures = []\n",
    "        for i, w1 in enumerate(workers):\n",
    "            for j, w2 in enumerate(workers):\n",
    "                futures += [w1.send(w2)]\n",
    "        finished = [f.result() for f in futures]\n",
    "        assert all(finished)\n",
    "        times['comm_grad'] += time() - start\n",
    "\n",
    "        # apply the gradients\n",
    "        grad_start = time()\n",
    "        futures = [worker.apply_gradients() for worker in workers]\n",
    "        \n",
    "    meta = {'compute_grad': times['compute_grad'] / iters,\n",
    "            'comm_grad': times['comm_grad'] / iters,\n",
    "            'params': sum(params),\n",
    "            'avg_step_time': (time() - train_start) / iters,\n",
    "            'iters': iters,\n",
    "            'num_workers': num_workers}\n",
    "    \n",
    "    models = [w._model for w in workers]\n",
    "    params = [dict(model.named_parameters())\n",
    "              for model in models]\n",
    "    check = toolz.first(params)\n",
    "    for model in models:\n",
    "        for name, p in model.named_parameters():\n",
    "            diff = torch.norm(p - check[name])\n",
    "            diff /= torch.norm(check[name])\n",
    "            # TODO: reduce the relative error constraint\n",
    "            # Most values are close to 1e-8, a couple aren't\n",
    "            assert diff.item() < 40e-3\n",
    "    return meta"
   ]
  },
  {
   "cell_type": "code",
   "execution_count": 11,
   "metadata": {},
   "outputs": [],
   "source": [
    "all_meta = []\n",
    "# meta = [test_decentralized(model, 4, iters)]\n",
    "meta = [train_decentralized(model, args, num_workers=num_workers, iters=20)\n",
    "        for num_workers in [1, 2, 4, 8]]"
   ]
  },
  {
   "cell_type": "code",
   "execution_count": 12,
   "metadata": {},
   "outputs": [],
   "source": [
    "all_meta += [{'arch': 'decentralized', **m} for m in meta]"
   ]
  },
  {
   "cell_type": "markdown",
   "metadata": {},
   "source": [
    "# Centralized implementation"
   ]
  },
  {
   "cell_type": "code",
   "execution_count": 13,
   "metadata": {},
   "outputs": [],
   "source": [
    "from time import sleep"
   ]
  },
  {
   "cell_type": "code",
   "execution_count": 14,
   "metadata": {},
   "outputs": [],
   "source": [
    "def train(model, device, data, target):\n",
    "    model.train()\n",
    "    \n",
    "    data, target = data.to(device), target.to(device)\n",
    "    # optimizer.zero_grad()\n",
    "    output = model(data)\n",
    "    loss = F.nll_loss(output, target)\n",
    "    loss.backward()\n",
    "    # optimizer.step()\n",
    "    return model"
   ]
  },
  {
   "cell_type": "code",
   "execution_count": 15,
   "metadata": {},
   "outputs": [],
   "source": [
    "from ps import PS\n"
   ]
  },
  {
   "cell_type": "code",
   "execution_count": 19,
   "metadata": {},
   "outputs": [],
   "source": [
    "def worker(ps, device, train_loader,\n",
    "           worker_id=0, num_workers=1,\n",
    "           iters=10):\n",
    "    times = {'comm_grad': 0, 'compute_grad': 0, 'comm_model': 0}\n",
    "    \n",
    "    step_start, _model = ps.pull_latest().result()\n",
    "    \n",
    "    whole_start = time()\n",
    "    params = [np.prod(tuple(p.size())) for p in _model.parameters()]\n",
    "    \n",
    "    for step in range(step_start, step_start + iters):\n",
    "        start = time()\n",
    "        while _model is None:\n",
    "            _model = ps.pull(key=step).result()\n",
    "            sleep(1e-3)\n",
    "        times['comm_grad'] += time() - start\n",
    "        model, _model = _model, None\n",
    "        #  param_check = toolz.last(model.parameters())\n",
    "        #  check = param_check.detach().numpy().flat[:4]\n",
    "        #  print(\"worker {} iter {}, last params = {}\".format(worker_id, iters, check))\n",
    "            \n",
    "        data, target = next(iter(train_loader))\n",
    "        start = time()\n",
    "        model = train(model, device, data, target)\n",
    "        grads = {name: p.grad.data for name, p in model.named_parameters()}\n",
    "        times['compute_grad'] += time() - start\n",
    "        \n",
    "        start = time()\n",
    "        ps.push(step, grads)\n",
    "        times['comm_model'] += time() - start\n",
    "        \n",
    "    meta = {'compute_grad': times['compute_grad'] / iters,\n",
    "            'comm_model': times['comm_model'] / iters,\n",
    "            'comm_grad': times['comm_grad'] / iters,\n",
    "            'avg_step_time': (time() - whole_start) / iters,\n",
    "            'iters': iters,\n",
    "            'num_workers': num_workers,\n",
    "            'params': sum(params)}\n",
    "    return meta"
   ]
  },
  {
   "cell_type": "code",
   "execution_count": 20,
   "metadata": {},
   "outputs": [],
   "source": [
    "def train_centralized(client, model, args, num_workers, iters, batch_size=64):\n",
    "    batch_size //= num_workers\n",
    "    train_loader = torch.utils.data.DataLoader(\n",
    "        datasets.MNIST('../data', train=True, download=True,\n",
    "                       transform=transforms.Compose([\n",
    "                           transforms.ToTensor(),\n",
    "                           transforms.Normalize((0.1307,), (0.3081,))\n",
    "                       ])),\n",
    "        batch_size=batch_size, shuffle=True, **kwargs)\n",
    "    \n",
    "    device = torch.device(\"cuda\" if use_cuda else \"cpu\")\n",
    "    train_loader, model = client.scatter([train_loader, model])\n",
    "\n",
    "    ps = client.gather(client.submit(PS, model, args, device,\n",
    "                                     num_workers=num_workers,\n",
    "                                     actor=True))\n",
    "    futures = [client.submit(worker, ps, device, train_loader,\n",
    "                             iters=iters,\n",
    "                             worker_id=i, num_workers=num_workers)\n",
    "               for i in range(num_workers)]\n",
    "    meta = client.gather(futures)\n",
    "    meta = [{'batch_size': batch_size, **m} for m in meta]\n",
    "    return meta"
   ]
  },
  {
   "cell_type": "code",
   "execution_count": 21,
   "metadata": {},
   "outputs": [],
   "source": [
    "meta = [train_centralized(client, model, args, num_workers, iters)\n",
    "        for num_workers in [1, 2, 4, 8]]"
   ]
  },
  {
   "cell_type": "code",
   "execution_count": 22,
   "metadata": {},
   "outputs": [],
   "source": [
    "meta = [{'arch': 'centralized', **mi} for m in meta for mi in m]"
   ]
  },
  {
   "cell_type": "code",
   "execution_count": 23,
   "metadata": {},
   "outputs": [],
   "source": [
    "all_meta += meta"
   ]
  },
  {
   "cell_type": "code",
   "execution_count": 24,
   "metadata": {},
   "outputs": [
    {
     "data": {
      "text/html": [
       "<div>\n",
       "<style scoped>\n",
       "    .dataframe tbody tr th:only-of-type {\n",
       "        vertical-align: middle;\n",
       "    }\n",
       "\n",
       "    .dataframe tbody tr th {\n",
       "        vertical-align: top;\n",
       "    }\n",
       "\n",
       "    .dataframe thead th {\n",
       "        text-align: right;\n",
       "    }\n",
       "</style>\n",
       "<table border=\"1\" class=\"dataframe\">\n",
       "  <thead>\n",
       "    <tr style=\"text-align: right;\">\n",
       "      <th></th>\n",
       "      <th>arch</th>\n",
       "      <th>avg_step_time</th>\n",
       "      <th>batch_size</th>\n",
       "      <th>comm_grad</th>\n",
       "      <th>comm_model</th>\n",
       "      <th>compute_grad</th>\n",
       "      <th>iters</th>\n",
       "      <th>num_workers</th>\n",
       "      <th>params</th>\n",
       "    </tr>\n",
       "  </thead>\n",
       "  <tbody>\n",
       "    <tr>\n",
       "      <th>0</th>\n",
       "      <td>decentralized</td>\n",
       "      <td>0.046836</td>\n",
       "      <td>NaN</td>\n",
       "      <td>0.007586</td>\n",
       "      <td>NaN</td>\n",
       "      <td>0.039241</td>\n",
       "      <td>20</td>\n",
       "      <td>1</td>\n",
       "      <td>21840</td>\n",
       "    </tr>\n",
       "    <tr>\n",
       "      <th>1</th>\n",
       "      <td>decentralized</td>\n",
       "      <td>0.063438</td>\n",
       "      <td>NaN</td>\n",
       "      <td>0.019061</td>\n",
       "      <td>NaN</td>\n",
       "      <td>0.044367</td>\n",
       "      <td>20</td>\n",
       "      <td>2</td>\n",
       "      <td>21840</td>\n",
       "    </tr>\n",
       "    <tr>\n",
       "      <th>2</th>\n",
       "      <td>decentralized</td>\n",
       "      <td>0.143423</td>\n",
       "      <td>NaN</td>\n",
       "      <td>0.084023</td>\n",
       "      <td>NaN</td>\n",
       "      <td>0.059380</td>\n",
       "      <td>20</td>\n",
       "      <td>4</td>\n",
       "      <td>21840</td>\n",
       "    </tr>\n",
       "    <tr>\n",
       "      <th>3</th>\n",
       "      <td>decentralized</td>\n",
       "      <td>0.397626</td>\n",
       "      <td>NaN</td>\n",
       "      <td>0.284750</td>\n",
       "      <td>NaN</td>\n",
       "      <td>0.112848</td>\n",
       "      <td>20</td>\n",
       "      <td>8</td>\n",
       "      <td>21840</td>\n",
       "    </tr>\n",
       "    <tr>\n",
       "      <th>4</th>\n",
       "      <td>centralized</td>\n",
       "      <td>0.047256</td>\n",
       "      <td>64.0</td>\n",
       "      <td>0.012794</td>\n",
       "      <td>0.000246</td>\n",
       "      <td>0.022506</td>\n",
       "      <td>20</td>\n",
       "      <td>1</td>\n",
       "      <td>21840</td>\n",
       "    </tr>\n",
       "  </tbody>\n",
       "</table>\n",
       "</div>"
      ],
      "text/plain": [
       "            arch  avg_step_time  batch_size  comm_grad  comm_model  \\\n",
       "0  decentralized       0.046836         NaN   0.007586         NaN   \n",
       "1  decentralized       0.063438         NaN   0.019061         NaN   \n",
       "2  decentralized       0.143423         NaN   0.084023         NaN   \n",
       "3  decentralized       0.397626         NaN   0.284750         NaN   \n",
       "4    centralized       0.047256        64.0   0.012794    0.000246   \n",
       "\n",
       "   compute_grad  iters  num_workers  params  \n",
       "0      0.039241     20            1   21840  \n",
       "1      0.044367     20            2   21840  \n",
       "2      0.059380     20            4   21840  \n",
       "3      0.112848     20            8   21840  \n",
       "4      0.022506     20            1   21840  "
      ]
     },
     "execution_count": 24,
     "metadata": {},
     "output_type": "execute_result"
    }
   ],
   "source": [
    "import pandas as pd\n",
    "df = pd.DataFrame(all_meta)\n",
    "df.head()"
   ]
  },
  {
   "cell_type": "markdown",
   "metadata": {},
   "source": [
    "Here's calling the train function. This can be called repeated times, since the function `worker` gets the latest model to start."
   ]
  },
  {
   "cell_type": "code",
   "execution_count": 25,
   "metadata": {},
   "outputs": [
    {
     "data": {
      "text/html": [
       "<div>\n",
       "<style scoped>\n",
       "    .dataframe tbody tr th:only-of-type {\n",
       "        vertical-align: middle;\n",
       "    }\n",
       "\n",
       "    .dataframe tbody tr th {\n",
       "        vertical-align: top;\n",
       "    }\n",
       "\n",
       "    .dataframe thead th {\n",
       "        text-align: right;\n",
       "    }\n",
       "</style>\n",
       "<table border=\"1\" class=\"dataframe\">\n",
       "  <thead>\n",
       "    <tr style=\"text-align: right;\">\n",
       "      <th></th>\n",
       "      <th>arch</th>\n",
       "      <th>num_workers</th>\n",
       "      <th>variable</th>\n",
       "      <th>time (s)</th>\n",
       "    </tr>\n",
       "  </thead>\n",
       "  <tbody>\n",
       "    <tr>\n",
       "      <th>0</th>\n",
       "      <td>decentralized</td>\n",
       "      <td>1</td>\n",
       "      <td>comm_grad</td>\n",
       "      <td>0.007586</td>\n",
       "    </tr>\n",
       "    <tr>\n",
       "      <th>1</th>\n",
       "      <td>decentralized</td>\n",
       "      <td>2</td>\n",
       "      <td>comm_grad</td>\n",
       "      <td>0.019061</td>\n",
       "    </tr>\n",
       "    <tr>\n",
       "      <th>2</th>\n",
       "      <td>decentralized</td>\n",
       "      <td>4</td>\n",
       "      <td>comm_grad</td>\n",
       "      <td>0.084023</td>\n",
       "    </tr>\n",
       "    <tr>\n",
       "      <th>3</th>\n",
       "      <td>decentralized</td>\n",
       "      <td>8</td>\n",
       "      <td>comm_grad</td>\n",
       "      <td>0.284750</td>\n",
       "    </tr>\n",
       "    <tr>\n",
       "      <th>4</th>\n",
       "      <td>centralized</td>\n",
       "      <td>1</td>\n",
       "      <td>comm_grad</td>\n",
       "      <td>0.012794</td>\n",
       "    </tr>\n",
       "  </tbody>\n",
       "</table>\n",
       "</div>"
      ],
      "text/plain": [
       "            arch  num_workers   variable  time (s)\n",
       "0  decentralized            1  comm_grad  0.007586\n",
       "1  decentralized            2  comm_grad  0.019061\n",
       "2  decentralized            4  comm_grad  0.084023\n",
       "3  decentralized            8  comm_grad  0.284750\n",
       "4    centralized            1  comm_grad  0.012794"
      ]
     },
     "execution_count": 25,
     "metadata": {},
     "output_type": "execute_result"
    }
   ],
   "source": [
    "import seaborn as sns\n",
    "import matplotlib.pyplot as plt\n",
    "plt.style.use('bmh')\n",
    "\n",
    "keep = df.drop(columns=['params', 'batch_size', 'iters', 'avg_step_time'])\n",
    "melted = keep.melt(id_vars=['arch', 'num_workers'], value_name='time (s)')\n",
    "melted.head()"
   ]
  },
  {
   "cell_type": "code",
   "execution_count": 26,
   "metadata": {},
   "outputs": [
    {
     "data": {
      "image/png": "[encoded data removed]",
      "text/plain": [
       "<Figure size 576x576 with 1 Axes>"
      ]
     },
     "metadata": {},
     "output_type": "display_data"
    }
   ],
   "source": [
    "w = 8\n",
    "fig, ax = plt.subplots(figsize=(w, w))\n",
    "sns.lineplot(x='num_workers', y='time (s)',\n",
    "             hue='variable', style='arch', data=melted)\n",
    "ax.set(yscale=\"log\", xscale=\"log\")\n",
    "ax.grid(which='both')"
   ]
  },
  {
   "cell_type": "code",
   "execution_count": null,
   "metadata": {},
   "outputs": [],
   "source": []
  }
 ],
 "metadata": {
  "kernelspec": {
   "display_name": "Python 3",
   "language": "python",
   "name": "python3"
  },
  "language_info": {
   "codemirror_mode": {
    "name": "ipython",
    "version": 3
   },
   "file_extension": ".py",
   "mimetype": "text/x-python",
   "name": "python",
   "nbconvert_exporter": "python",
   "pygments_lexer": "ipython3",
   "version": "3.6.5"
  }
 },
 "nbformat": 4,
 "nbformat_minor": 2
}
