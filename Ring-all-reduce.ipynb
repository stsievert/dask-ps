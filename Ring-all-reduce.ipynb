{
 "cells": [
  {
   "cell_type": "code",
   "execution_count": 1,
   "metadata": {},
   "outputs": [],
   "source": [
    "from distributed import Client"
   ]
  },
  {
   "cell_type": "code",
   "execution_count": 2,
   "metadata": {},
   "outputs": [
    {
     "data": {
      "text/html": [
       "<table style=\"border: 2px solid white;\">\n",
       "<tr>\n",
       "<td style=\"vertical-align: top; border: 0px solid white\">\n",
       "<h3>Client</h3>\n",
       "<ul>\n",
       "  <li><b>Scheduler: </b>tcp://127.0.0.1:58699\n",
       "  <li><b>Dashboard: </b><a href='http://127.0.0.1:58700/status' target='_blank'>http://127.0.0.1:58700/status</a>\n",
       "</ul>\n",
       "</td>\n",
       "<td style=\"vertical-align: top; border: 0px solid white\">\n",
       "<h3>Cluster</h3>\n",
       "<ul>\n",
       "  <li><b>Workers: </b>8</li>\n",
       "  <li><b>Cores: </b>8</li>\n",
       "  <li><b>Memory: </b>17.18 GB</li>\n",
       "</ul>\n",
       "</td>\n",
       "</tr>\n",
       "</table>"
      ],
      "text/plain": [
       "<Client: scheduler='tcp://127.0.0.1:58699' processes=8 cores=8>"
      ]
     },
     "execution_count": 2,
     "metadata": {},
     "output_type": "execute_result"
    }
   ],
   "source": [
    "client = Client()\n",
    "client"
   ]
  },
  {
   "cell_type": "code",
   "execution_count": 104,
   "metadata": {},
   "outputs": [
    {
     "data": {
      "text/plain": [
       "{0: 1, 1: 2, 2: 3, 3: 4, 4: 0}"
      ]
     },
     "execution_count": 104,
     "metadata": {},
     "output_type": "execute_result"
    }
   ],
   "source": [
    "def ring_all_reduce(n):\n",
    "    return {k: (k + 1) % n for k in range(n)}\n",
    "    return {(k + 1) % n: k for k in range(n)}\n",
    "    \n",
    "ring_all_reduce(5)"
   ]
  },
  {
   "cell_type": "code",
   "execution_count": 139,
   "metadata": {},
   "outputs": [],
   "source": [
    "class Worker:\n",
    "    def __init__(self, model, comm, worker_id=0):\n",
    "        self.model = model\n",
    "        self._worker_id = worker_id\n",
    "        self.models = {}\n",
    "        \n",
    "    @property\n",
    "    def worker_id(self):\n",
    "        return self._worker_id\n",
    "    @property\n",
    "    def model_(self):\n",
    "        return self.model\n",
    "    \n",
    "    def send(self, worker, final=False):\n",
    "        worker.recv(self.model, self.worker_id, final=final)\n",
    "        return True\n",
    "        \n",
    "    def recv(self, model, worker_id, final=False):\n",
    "        self.models[worker_id] = model\n",
    "        if not final:\n",
    "            self.model = sum(self.models.values()) + self.model\n",
    "        else:\n",
    "            self.model = model\n",
    "        return True\n"
   ]
  },
  {
   "cell_type": "code",
   "execution_count": 140,
   "metadata": {},
   "outputs": [
    {
     "data": {
      "text/plain": [
       "[<Actor: Worker, key=Worker-2b76407e-b330-4a41-be66-702d26058d66>,\n",
       " <Actor: Worker, key=Worker-ab06924e-88f3-4d5e-a291-b2d70367ced1>,\n",
       " <Actor: Worker, key=Worker-d12301ef-22b8-4191-84c4-30a87fca9fa3>,\n",
       " <Actor: Worker, key=Worker-8c785487-e0ab-475c-ab1f-e4b8b9f8701f>,\n",
       " <Actor: Worker, key=Worker-385c176a-a2d1-44ba-a422-a313896830ab>]"
      ]
     },
     "execution_count": 140,
     "metadata": {},
     "output_type": "execute_result"
    }
   ],
   "source": [
    "n = 5\n",
    "comms = ring_all_reduce(n)\n",
    "futures = [client.submit(Worker, (i + 1) * 10, comms[i], worker_id=i, actor=True)\n",
    "           for i in range(n)]\n",
    "w = client.gather(futures)\n",
    "w"
   ]
  },
  {
   "cell_type": "code",
   "execution_count": 141,
   "metadata": {},
   "outputs": [
    {
     "data": {
      "text/plain": [
       "{0: 60, 1: 30, 2: 60, 3: 70, 4: 90}"
      ]
     },
     "execution_count": 141,
     "metadata": {},
     "output_type": "execute_result"
    }
   ],
   "source": [
    "workers = {worker.worker_id: worker for worker in w}\n",
    "\n",
    "futures = []\n",
    "for id_, worker in workers.items():\n",
    "    send_to = comms[id_]\n",
    "    futures += [worker.send(workers[send_to])]\n",
    "sent = [f.result() for f in futures]\n",
    "models = {k: worker.model_ for k, worker in workers.items()}\n",
    "models"
   ]
  },
  {
   "cell_type": "code",
   "execution_count": 144,
   "metadata": {},
   "outputs": [],
   "source": [
    "complete_worker = max(models.keys())\n",
    "final_worker = workers[complete_worker]"
   ]
  },
  {
   "cell_type": "code",
   "execution_count": 145,
   "metadata": {},
   "outputs": [
    {
     "data": {
      "text/plain": [
       "[True, True, True, True, True]"
      ]
     },
     "execution_count": 145,
     "metadata": {},
     "output_type": "execute_result"
    }
   ],
   "source": [
    "futures = []\n",
    "for id_, worker in workers.items():\n",
    "    futures += [final_worker.send(worker, final=True)]\n",
    "[f.result() for f in futures]"
   ]
  },
  {
   "cell_type": "code",
   "execution_count": 147,
   "metadata": {},
   "outputs": [
    {
     "data": {
      "text/plain": [
       "{0: 90, 1: 90, 2: 90, 3: 90, 4: 90}"
      ]
     },
     "execution_count": 147,
     "metadata": {},
     "output_type": "execute_result"
    }
   ],
   "source": [
    "models = {k: worker.model_ for k, worker in workers.items()}\n",
    "models"
   ]
  },
  {
   "cell_type": "code",
   "execution_count": null,
   "metadata": {},
   "outputs": [],
   "source": []
  }
 ],
 "metadata": {
  "kernelspec": {
   "display_name": "Python 3",
   "language": "python",
   "name": "python3"
  },
  "language_info": {
   "codemirror_mode": {
    "name": "ipython",
    "version": 3
   },
   "file_extension": ".py",
   "mimetype": "text/x-python",
   "name": "python",
   "nbconvert_exporter": "python",
   "pygments_lexer": "ipython3",
   "version": "3.6.5"
  }
 },
 "nbformat": 4,
 "nbformat_minor": 2
}
