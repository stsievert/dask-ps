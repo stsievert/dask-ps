{
 "cells": [
  {
   "cell_type": "markdown",
   "metadata": {},
   "source": [
    "This notebook implements a decentralized parameter server. Every worker holds onto a model, and they communicate gradients.\n",
    "\n",
    "Most of this is copied from PyTorch's MNIST example: https://github.com/pytorch/examples/blob/master/mnist/main.py.  The top couple cells are copy/pasted from there."
   ]
  },
  {
   "cell_type": "code",
   "execution_count": 1,
   "metadata": {},
   "outputs": [
    {
     "data": {
      "image/png": "./decentralized.png",
      "text/plain": [
       "<IPython.core.display.Image object>"
      ]
     },
     "execution_count": 1,
     "metadata": {
      "image/png": {
       "width": 400
      }
     },
     "output_type": "execute_result"
    }
   ],
   "source": [
    "from IPython.display import Image\n",
    "Image('./decentralized.png', width=400)"
   ]
  },
  {
   "cell_type": "code",
   "execution_count": 2,
   "metadata": {},
   "outputs": [],
   "source": [
    "from __future__ import print_function\n",
    "import argparse\n",
    "import torch\n",
    "import torch.nn as nn\n",
    "import torch.nn.functional as F\n",
    "import torch.optim as optim\n",
    "from torchvision import datasets, transforms"
   ]
  },
  {
   "cell_type": "code",
   "execution_count": 3,
   "metadata": {},
   "outputs": [],
   "source": [
    "class Net(nn.Module):\n",
    "    def __init__(self):\n",
    "        super(Net, self).__init__()\n",
    "        self.conv1 = nn.Conv2d(1, 10, kernel_size=5)\n",
    "        self.conv2 = nn.Conv2d(10, 20, kernel_size=5)\n",
    "        self.conv2_drop = nn.Dropout2d()\n",
    "        self.fc1 = nn.Linear(320, 50)\n",
    "        self.fc2 = nn.Linear(50, 10)\n",
    "\n",
    "    def forward(self, x):\n",
    "        x = F.relu(F.max_pool2d(self.conv1(x), 2))\n",
    "        x = F.relu(F.max_pool2d(self.conv2_drop(self.conv2(x)), 2))\n",
    "        x = x.view(-1, 320)\n",
    "        x = F.relu(self.fc1(x))\n",
    "        x = F.dropout(x, training=self.training)\n",
    "        x = self.fc2(x)\n",
    "        return F.log_softmax(x, dim=1)"
   ]
  },
  {
   "cell_type": "markdown",
   "metadata": {},
   "source": [
    "This noteboko depends on PyTorch 0.4.1 for serialization of torch.Device objects: https://github.com/pytorch/pytorch/pull/7713 "
   ]
  },
  {
   "cell_type": "code",
   "execution_count": 4,
   "metadata": {},
   "outputs": [],
   "source": [
    "from types import SimpleNamespace\n",
    "args = SimpleNamespace(batch_size=64, test_batch_size=1000,\n",
    "                       epochs=2, lr=0.01, momentum=0.5,\n",
    "                       no_cuda=True, seed=42, log_interval=80)\n",
    "    \n",
    "use_cuda = not args.no_cuda and torch.cuda.is_available()\n",
    "torch.manual_seed(args.seed)\n",
    "\n",
    "kwargs = {'num_workers': 1, 'pin_memory': True} if use_cuda else {}\n",
    "train_loader = torch.utils.data.DataLoader(\n",
    "    datasets.MNIST('../data', train=True, download=True,\n",
    "                   transform=transforms.Compose([\n",
    "                       transforms.ToTensor(),\n",
    "                       transforms.Normalize((0.1307,), (0.3081,))\n",
    "                   ])),\n",
    "    batch_size=args.batch_size, shuffle=True, **kwargs)"
   ]
  },
  {
   "cell_type": "code",
   "execution_count": 5,
   "metadata": {},
   "outputs": [
    {
     "data": {
      "text/html": [
       "<table style=\"border: 2px solid white;\">\n",
       "<tr>\n",
       "<td style=\"vertical-align: top; border: 0px solid white\">\n",
       "<h3>Client</h3>\n",
       "<ul>\n",
       "  <li><b>Scheduler: </b>tcp://127.0.0.1:63931\n",
       "  <li><b>Dashboard: </b><a href='http://127.0.0.1:63932/status' target='_blank'>http://127.0.0.1:63932/status</a>\n",
       "</ul>\n",
       "</td>\n",
       "<td style=\"vertical-align: top; border: 0px solid white\">\n",
       "<h3>Cluster</h3>\n",
       "<ul>\n",
       "  <li><b>Workers: </b>8</li>\n",
       "  <li><b>Cores: </b>8</li>\n",
       "  <li><b>Memory: </b>17.18 GB</li>\n",
       "</ul>\n",
       "</td>\n",
       "</tr>\n",
       "</table>"
      ],
      "text/plain": [
       "<Client: scheduler='tcp://127.0.0.1:63931' processes=8 cores=8>"
      ]
     },
     "execution_count": 5,
     "metadata": {},
     "output_type": "execute_result"
    }
   ],
   "source": [
    "from distributed import Client\n",
    "import distributed as d\n",
    "client = Client()\n",
    "client"
   ]
  },
  {
   "cell_type": "markdown",
   "metadata": {},
   "source": [
    "The function `compute_grad` is (almost) copy pasted from the example. The differences are that...\n",
    "\n",
    "* it does not loop over all `(data, target)` item. This fucntion only consumes `(data, target)` item\n",
    "* it does not call `optimizer.step`. It only computes the gradient, and returns the model (which holds the modified gradients)."
   ]
  },
  {
   "cell_type": "code",
   "execution_count": 6,
   "metadata": {},
   "outputs": [],
   "source": [
    "def compute_grad(model, data, target, optimizer, args, device):\n",
    "    data, target = data.to(device), target.to(device)\n",
    "    optimizer.zero_grad()\n",
    "    output = model(data)\n",
    "    loss = F.nll_loss(output, target)\n",
    "    loss.backward()\n",
    "    # optimizer.step()  # do not include this\n",
    "    return {k: p.grad for k, p in model.named_parameters()}"
   ]
  },
  {
   "cell_type": "code",
   "execution_count": 7,
   "metadata": {},
   "outputs": [],
   "source": [
    "import toolz\n",
    "from pprint import pprint\n",
    "from time import time\n",
    "import numpy as np\n",
    "\n",
    "class Worker:\n",
    "    def __init__(self, model, train_loader,\n",
    "                 args, worker_id=0, num_workers=1):\n",
    "        self.args = args\n",
    "        torch.manual_seed(args.seed + worker_id)\n",
    "        \n",
    "        self.device = torch.device(\"cuda\" if use_cuda else \"cpu\")\n",
    "        self.model = model.to(self.device)\n",
    "        self.optimizer = optim.SGD(model.parameters(), lr=args.lr, momentum=args.momentum)\n",
    "        \n",
    "        self.grads = []\n",
    "        self.worker_id = worker_id\n",
    "        self.num_workers = num_workers\n",
    "        \n",
    "        self.train_loader = train_loader\n",
    "    \n",
    "    @property\n",
    "    def _model(self):\n",
    "        return self.model\n",
    "    \n",
    "    def compute_gradients(self):\n",
    "        data, target = next(iter(self.train_loader))\n",
    "        self.grad = compute_grad(self.model, data, target, self.optimizer,\n",
    "                                 self.args, self.device)\n",
    "        return True\n",
    "    \n",
    "    def send(self, worker):\n",
    "        worker.recv(self.grad)\n",
    "        \n",
    "    def recv(self, grad):\n",
    "        self.grads += [grad]\n",
    "        return True\n",
    "    \n",
    "    def apply_gradients(self):\n",
    "        # This is a little verbose; no all-reduce, list of grads, etc\n",
    "        if len(self.grads) != self.num_workers:\n",
    "            return None\n",
    "            \n",
    "        grads = {k: sum([named_grads[k] for named_grads in self.grads])\n",
    "                for k in self.grads[0]}\n",
    "        self.grads = []\n",
    "        \n",
    "        for name, param in self.model.named_parameters():\n",
    "            param.grad = grads[name]\n",
    "            \n",
    "        self.optimizer.step()\n",
    "        return True"
   ]
  },
  {
   "cell_type": "code",
   "execution_count": 8,
   "metadata": {},
   "outputs": [
    {
     "data": {
      "text/plain": [
       "[<Actor: Worker, key=Worker-029afcb3-d438-4b68-9cbc-2c2ab6614783>,\n",
       " <Actor: Worker, key=Worker-cca1649b-26a7-4bc3-be31-74b25ad593c1>,\n",
       " <Actor: Worker, key=Worker-3637e05b-f1c3-4f24-b428-58eba8fd5377>,\n",
       " <Actor: Worker, key=Worker-083aeac6-cb91-4034-9d8e-91450c5f7a50>]"
      ]
     },
     "execution_count": 8,
     "metadata": {},
     "output_type": "execute_result"
    }
   ],
   "source": [
    "num_workers = 4\n",
    "model = Net()\n",
    "\n",
    "model, train_loader = client.scatter([model, train_loader])\n",
    "futures = [client.submit(Worker, model, train_loader, args,\n",
    "                         worker_id=i, num_workers=num_workers,\n",
    "                         actor=True)\n",
    "           for i in range(num_workers)]\n",
    "\n",
    "workers = client.gather(futures)\n",
    "workers"
   ]
  },
  {
   "cell_type": "code",
   "execution_count": 9,
   "metadata": {},
   "outputs": [
    {
     "name": "stdout",
     "output_type": "stream",
     "text": [
      "0\n",
      "10\n"
     ]
    }
   ],
   "source": [
    "meta = {'apply_grads': 0, 'compute_grad': 0, 'comm_grad': 0}\n",
    "\n",
    "train_start = time()\n",
    "iters = 20\n",
    "for k in range(iters):\n",
    "    if k % 10 == 0:\n",
    "        print(k)\n",
    "    # compute gradient\n",
    "    start = time()\n",
    "    futures = [worker.compute_gradients() for worker in workers]\n",
    "    [f.result() for f in futures]\n",
    "    meta['compute_grad'] += time() - start\n",
    "\n",
    "    # communication scheme\n",
    "    #    here, all-gather, but could (and should) be all-reduce\n",
    "    start = time()\n",
    "    futures = []\n",
    "    for i, w1 in enumerate(workers):\n",
    "        for j, w2 in enumerate(workers):\n",
    "            futures += [w1.send(w2)]\n",
    "    [f.result() for f in futures]\n",
    "    meta['comm_grad'] += time() - start\n",
    "\n",
    "    # apply the gradients\n",
    "    start = time()\n",
    "    futures = [worker.apply_gradients() for worker in workers]\n",
    "    [f.result() for f in futures]\n",
    "    meta['apply_grads'] += time() - start\n",
    "    \n",
    "\n",
    "meta = {k: v / iters for k, v in meta.items()}\n",
    "params = [np.prod(tuple(p.size())) for p in Net().parameters()]\n",
    "meta['params'] = sum(params)\n",
    "meta['avg_step_time'] = (time() - train_start) / iters\n",
    "meta = [meta]"
   ]
  },
  {
   "cell_type": "code",
   "execution_count": 12,
   "metadata": {},
   "outputs": [
    {
     "data": {
      "text/plain": [
       "<matplotlib.axes._subplots.AxesSubplot at 0x12218b2b0>"
      ]
     },
     "execution_count": 12,
     "metadata": {},
     "output_type": "execute_result"
    },
    {
     "data": {
      "image/png": "[encoded data removed]",
      "text/plain": [
       "<Figure size 432x288 with 1 Axes>"
      ]
     },
     "metadata": {},
     "output_type": "display_data"
    }
   ],
   "source": [
    "import pandas as pd\n",
    "df = pd.DataFrame(meta)\n",
    "show = df.groupby('params').mean()\n",
    "show.plot.bar()"
   ]
  },
  {
   "cell_type": "code",
   "execution_count": 11,
   "metadata": {},
   "outputs": [],
   "source": [
    "import numpy as np\n",
    "models = [worker._model for worker in workers]\n",
    "params = [dict(model.named_parameters()) for model in models]\n",
    "named_params = {k: [param[k] for param in params]\n",
    "                for k in params[0]}\n",
    "for k, params in named_params.items():\n",
    "    p0 = params[0]\n",
    "    rel_errors = [torch.norm(p0 - p) / torch.norm(p)\n",
    "                  for p in params]\n",
    "    rel_errors = [e.item() for e in rel_errors]\n",
    "    if max(rel_errors) > 2e-7:\n",
    "        print(max(rel_errors))\n",
    "        assert False"
   ]
  },
  {
   "cell_type": "code",
   "execution_count": null,
   "metadata": {},
   "outputs": [],
   "source": []
  }
 ],
 "metadata": {
  "kernelspec": {
   "display_name": "Python 3",
   "language": "python",
   "name": "python3"
  },
  "language_info": {
   "codemirror_mode": {
    "name": "ipython",
    "version": 3
   },
   "file_extension": ".py",
   "mimetype": "text/x-python",
   "name": "python",
   "nbconvert_exporter": "python",
   "pygments_lexer": "ipython3",
   "version": "3.6.5"
  }
 },
 "nbformat": 4,
 "nbformat_minor": 2
}
